{
 "cells": [
  {
   "cell_type": "code",
   "execution_count": 1,
   "id": "462f7884",
   "metadata": {},
   "outputs": [],
   "source": [
    "import numpy as np\n",
    "import matplotlib.pyplot as plt\n",
    "from utils.notebook_config import *\n",
    "import random"
   ]
  },
  {
   "cell_type": "code",
   "execution_count": 47,
   "id": "fe7ae85b",
   "metadata": {},
   "outputs": [
    {
     "name": "stdout",
     "output_type": "stream",
     "text": [
      "Seed!\n"
     ]
    },
    {
     "data": {
      "text/plain": [
       "[<matplotlib.lines.Line2D at 0x12747ae90>]"
      ]
     },
     "execution_count": 47,
     "metadata": {},
     "output_type": "execute_result"
    },
    {
     "data": {
      "image/png": "[encoded data removed]",
      "text/plain": [
       "<Figure size 600x400 with 1 Axes>"
      ]
     },
     "metadata": {},
     "output_type": "display_data"
    }
   ],
   "source": [
    "alpha, beta, L = 0.9, 0.9, 30\n",
    "\n",
    "codons = \"AGCGCGCGGUCACAACGUUACUGUUAUCGAUCCGGUCGAAAAACUGCUGGCAGUGGGGCAUUACCUCGAAUCUACCGUCGAUAUUGCUGA\"\n",
    "\n",
    "q = np.random.rand(30)\n",
    "\n",
    "def protein(alpha, beta, q, L, timesteps: int):\n",
    "    counter = 0                         #protein counter\n",
    "    ribo = np.zeros(L)                 #tracks where the ribosomes are, 1 = ribosome, 0 = no ribosome\n",
    "    production = []                     #amount of protein over time\n",
    "    index = np.array([i for i in range(30)])        #index of each codon\n",
    "    time = [i for i in range(timesteps)]       #time over which we plot\n",
    "    for step in range(timesteps):\n",
    "        p = np.random.permutation(len(index))       #make sure that the q_i and index stay together after shuffling\n",
    "        index, q = index[p], q[p]                   #shuffle the codons randomly\n",
    "        for i in index:\n",
    "            if i == 0:                  #Special case 1: the beginning\n",
    "                if random.random() < alpha:\n",
    "                    if ribo[0] == 0:\n",
    "                        ribo[0] += 1\n",
    "                        print(\"Seed!\")\n",
    "                continue\n",
    "            if i == 29:                 #Special case 2: the end\n",
    "                if random.random() < beta:\n",
    "                    if ribo[29] == 1:\n",
    "                        ribo[29] -= 1\n",
    "                        counter += 1\n",
    "                        print(\"Farm\")\n",
    "                continue\n",
    "            if random.random() < q[i]:\n",
    "                if ribo[i] == 1 and ribo[i+1] == 0:\n",
    "                    ribo[i+1] += 1\n",
    "                    ribo[i] -= 1\n",
    "                    print(\"MOVE\")\n",
    "        production.append(counter)\n",
    "    return time, production\n",
    "\n",
    "x,y = protein(alpha, beta, q, L, 1000)\n",
    "\n",
    "plt.plot(x,y)"
   ]
  },
  {
   "cell_type": "code",
   "execution_count": 24,
   "id": "4bf8548f",
   "metadata": {},
   "outputs": [
    {
     "name": "stdout",
     "output_type": "stream",
     "text": [
      "[10  6  8  4  9]\n",
      "[5 1 3 2 4]\n"
     ]
    }
   ],
   "source": [
    "a = np.array([6, 4, 8, 9, 10])\n",
    "b = np.array([1, 2, 3, 4, 5])\n",
    "\n",
    "p = np.random.permutation(len(a))  # Generate a shuffledx array\n",
    "a, b = a[p], b[p]\n",
    "\n",
    "print(a)  \n",
    "print(b)"
   ]
  }
 ],
 "metadata": {
  "kernelspec": {
   "display_name": "base",
   "language": "python",
   "name": "python3"
  },
  "language_info": {
   "codemirror_mode": {
    "name": "ipython",
    "version": 3
   },
   "file_extension": ".py",
   "mimetype": "text/x-python",
   "name": "python",
   "nbconvert_exporter": "python",
   "pygments_lexer": "ipython3",
   "version": "3.13.5"
  }
 },
 "nbformat": 4,
 "nbformat_minor": 5
}
