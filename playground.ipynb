{
 "cells": [
  {
   "cell_type": "code",
   "execution_count": 1,
   "id": "f242bab0",
   "metadata": {},
   "outputs": [],
   "source": [
    "import numpy as np\n",
    "import matplotlib.pyplot as plt\n",
    "from utils.notebook_config import *\n",
    "import random\n",
    "from utils.simulation2 import *"
   ]
  },
  {
   "cell_type": "code",
   "execution_count": 37,
   "id": "a89fa912",
   "metadata": {},
   "outputs": [
    {
     "name": "stdout",
     "output_type": "stream",
     "text": [
      "Correlation for random walk:  -0.010217700799637049\n"
     ]
    }
   ],
   "source": [
    "corr = 0\n",
    "shots = 1000\n",
    "\n",
    "for k in range(shots):\n",
    "    avg1, avg2 = 10, 10\n",
    "    g1, g2 = [10], [10]\n",
    "    for i in range(1000):\n",
    "        g1_random = np.random.random()\n",
    "        g2_random = np.random.random()\n",
    "\n",
    "        if g1_random < (1/3):\n",
    "            avg1 -= 1\n",
    "            g1.append(avg1)\n",
    "        elif (1/3) <= g1_random < (2/3):\n",
    "            avg1 += 1\n",
    "            g1.append(avg1)\n",
    "        else:\n",
    "            g1.append(avg1)\n",
    "        \n",
    "        if g2_random < (1/3):\n",
    "            avg2 -= 1\n",
    "            g2.append(avg2)\n",
    "        elif (1/3) <= g2_random < (2/3):\n",
    "            avg2 += 1\n",
    "            g2.append(avg2)\n",
    "        else:\n",
    "            g2.append(avg2)\n",
    "    corr += np.corrcoef(g1,g2)[0][1]\n",
    "\n",
    "corr = corr/shots\n",
    "\n",
    "\n",
    "print(\"Correlation for random walk: \", corr)"
   ]
  }
 ],
 "metadata": {
  "kernelspec": {
   "display_name": "base",
   "language": "python",
   "name": "python3"
  },
  "language_info": {
   "codemirror_mode": {
    "name": "ipython",
    "version": 3
   },
   "file_extension": ".py",
   "mimetype": "text/x-python",
   "name": "python",
   "nbconvert_exporter": "python",
   "pygments_lexer": "ipython3",
   "version": "3.13.5"
  }
 },
 "nbformat": 4,
 "nbformat_minor": 5
}
