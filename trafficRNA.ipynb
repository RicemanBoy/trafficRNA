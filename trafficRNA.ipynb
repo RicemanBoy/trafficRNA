{
 "cells": [
  {
   "cell_type": "code",
   "execution_count": 1,
   "id": "462f7884",
   "metadata": {},
   "outputs": [],
   "source": [
    "import numpy as np\n",
    "import matplotlib.pyplot as plt\n",
    "from utils.notebook_config import *\n",
    "import random\n",
    "from utils.simulation import *"
   ]
  },
  {
   "cell_type": "code",
   "execution_count": 11,
   "id": "b74e2f75",
   "metadata": {},
   "outputs": [
    {
     "name": "stdout",
     "output_type": "stream",
     "text": [
      "2\n",
      "[0, 0, 1, 1, 0, 0, 0, 0, 0, 0, 0, 0, 0, 0, 0, 0, 0, 0, 0, 0, 0, 0, 0, 0, 0, 0, 0, 0, 0, 0]\n"
     ]
    }
   ],
   "source": [
    "road = rna(L=30, tau=1, steps=10)\n",
    "\n",
    "ribo1 = ribo(rna=road)\n",
    "\n",
    "ribo1.move(rna=road)\n",
    "ribo1.move(rna=road)\n",
    "ribo1.move(rna=road)\n",
    "\n",
    "ribo2 = ribo(rna=road)\n",
    "\n",
    "ribo2.move(rna=road)\n",
    "ribo2.move(rna=road)\n",
    "ribo2.move(rna=road)\n",
    "ribo2.move(rna=road)\n",
    "ribo2.move(rna=road)\n",
    "\n",
    "print(ribo2.position())\n",
    "print(road.occupation())"
   ]
  }
 ],
 "metadata": {
  "kernelspec": {
   "display_name": "base",
   "language": "python",
   "name": "python3"
  },
  "language_info": {
   "codemirror_mode": {
    "name": "ipython",
    "version": 3
   },
   "file_extension": ".py",
   "mimetype": "text/x-python",
   "name": "python",
   "nbconvert_exporter": "python",
   "pygments_lexer": "ipython3",
   "version": "3.13.5"
  }
 },
 "nbformat": 4,
 "nbformat_minor": 5
}
