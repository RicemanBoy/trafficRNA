{
 "cells": [
  {
   "cell_type": "code",
   "execution_count": 1,
   "id": "462f7884",
   "metadata": {},
   "outputs": [],
   "source": [
    "import numpy as np\n",
    "import matplotlib.pyplot as plt\n",
    "from utils.notebook_config import *\n",
    "import random\n",
    "from utils.simulation import *"
   ]
  },
  {
   "cell_type": "code",
   "execution_count": 3,
   "id": "b74e2f75",
   "metadata": {},
   "outputs": [
    {
     "name": "stdout",
     "output_type": "stream",
     "text": [
      "3\n",
      "[0, 0, 1, 1, 0, 0, 0, 0, 0, 0, 0, 0, 0, 0, 0, 0, 0, 0, 0, 0, 0, 0, 0, 0, 0, 0, 0, 0, 0, 0]\n"
     ]
    }
   ],
   "source": [
    "road = rna(L=30, tau=1, steps=10)\n",
    "\n",
    "ribs = []\n",
    "\n",
    "ribs.append(ribo(rna=road))\n",
    "\n",
    "ribs[0].move(rna=road)\n",
    "ribs[0].move(rna=road)\n",
    "ribs[0].move(rna=road)\n",
    "\n",
    "ribs.append(ribo(rna=road))\n",
    "\n",
    "ribs[1].move(rna=road)\n",
    "ribs[1].move(rna=road)\n",
    "ribs[1].move(rna=road)\n",
    "ribs[1].move(rna=road)\n",
    "ribs[1].move(rna=road)\n",
    "\n",
    "print(ribs[0].position())\n",
    "print(road.occupation())"
   ]
  }
 ],
 "metadata": {
  "kernelspec": {
   "display_name": "base",
   "language": "python",
   "name": "python3"
  },
  "language_info": {
   "codemirror_mode": {
    "name": "ipython",
    "version": 3
   },
   "file_extension": ".py",
   "mimetype": "text/x-python",
   "name": "python",
   "nbconvert_exporter": "python",
   "pygments_lexer": "ipython3",
   "version": "3.13.5"
  }
 },
 "nbformat": 4,
 "nbformat_minor": 5
}
